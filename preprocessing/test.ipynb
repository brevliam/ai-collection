{
 "cells": [
  {
   "cell_type": "code",
   "execution_count": 21,
   "metadata": {},
   "outputs": [],
   "source": [
    "import pandas as pd\n",
    "import numpy as np\n",
    "from sklearn.base import BaseEstimator, TransformerMixin\n",
    "from sklearn.pipeline import Pipeline\n",
    "from sklearn.preprocessing import FunctionTransformer\n",
    "import joblib\n",
    "import json  \n",
    "from first_payment_default import *\n",
    "\n",
    "# from preprocessing.first_payment_default import data_transformation_pipeline, kredit_preprocessing, \\\n",
    "#     solution_preprocessing, PotentialDefaultCalculator\n"
   ]
  },
  {
   "cell_type": "code",
   "execution_count": 22,
   "metadata": {},
   "outputs": [],
   "source": [
    "class UselessFeature(BaseEstimator, TransformerMixin):\n",
    "    def fit(self, X, y=None):\n",
    "        return self\n",
    "\n",
    "    def transform(self, X, y=None):\n",
    "        return X.drop(['debtor_name','debtor_education_level'], axis=1)\n",
    "\n",
    "    def fit_transform(self, X, y=None):\n",
    "        self.fit(X, y)\n",
    "        return self.transform(X)"
   ]
  },
  {
   "cell_type": "code",
   "execution_count": 23,
   "metadata": {},
   "outputs": [],
   "source": [
    "useles = UselessFeature()"
   ]
  },
  {
   "cell_type": "code",
   "execution_count": 24,
   "metadata": {},
   "outputs": [],
   "source": [
    "data_debitur = [\"Yoga Fatwanto\",21, \"S1\", 7, 18000000, 8400000, 270000000.0, 98100000, 10, 54, 2263403.16, \"kredit pribadi\"]\n",
    "columns = ['debtor_name', 'debtor_age', 'debtor_education_level','employment_year', 'monthly_income', 'monthly_expenses', 'asset_value','loan_amount', 'interest_rate', 'tenor', 'monthly_payment', 'loan_purpose']"
   ]
  },
  {
   "cell_type": "code",
   "execution_count": 25,
   "metadata": {},
   "outputs": [],
   "source": [
    "df = pd.DataFrame([data_debitur], columns=columns)\n",
    "nama = data_debitur[0]"
   ]
  },
  {
   "cell_type": "code",
   "execution_count": 26,
   "metadata": {},
   "outputs": [
    {
     "data": {
      "text/html": [
       "<div>\n",
       "<style scoped>\n",
       "    .dataframe tbody tr th:only-of-type {\n",
       "        vertical-align: middle;\n",
       "    }\n",
       "\n",
       "    .dataframe tbody tr th {\n",
       "        vertical-align: top;\n",
       "    }\n",
       "\n",
       "    .dataframe thead th {\n",
       "        text-align: right;\n",
       "    }\n",
       "</style>\n",
       "<table border=\"1\" class=\"dataframe\">\n",
       "  <thead>\n",
       "    <tr style=\"text-align: right;\">\n",
       "      <th></th>\n",
       "      <th>debtor_name</th>\n",
       "      <th>debtor_age</th>\n",
       "      <th>debtor_education_level</th>\n",
       "      <th>employment_year</th>\n",
       "      <th>monthly_income</th>\n",
       "      <th>monthly_expenses</th>\n",
       "      <th>asset_value</th>\n",
       "      <th>loan_amount</th>\n",
       "      <th>interest_rate</th>\n",
       "      <th>tenor</th>\n",
       "      <th>monthly_payment</th>\n",
       "      <th>loan_purpose</th>\n",
       "    </tr>\n",
       "  </thead>\n",
       "  <tbody>\n",
       "    <tr>\n",
       "      <th>0</th>\n",
       "      <td>Yoga Fatwanto</td>\n",
       "      <td>21</td>\n",
       "      <td>S1</td>\n",
       "      <td>7</td>\n",
       "      <td>18000000</td>\n",
       "      <td>8400000</td>\n",
       "      <td>270000000.0</td>\n",
       "      <td>98100000</td>\n",
       "      <td>10</td>\n",
       "      <td>54</td>\n",
       "      <td>2263403.16</td>\n",
       "      <td>kredit pribadi</td>\n",
       "    </tr>\n",
       "  </tbody>\n",
       "</table>\n",
       "</div>"
      ],
      "text/plain": [
       "     debtor_name  debtor_age debtor_education_level  employment_year  \\\n",
       "0  Yoga Fatwanto          21                     S1                7   \n",
       "\n",
       "   monthly_income  monthly_expenses  asset_value  loan_amount  interest_rate  \\\n",
       "0        18000000           8400000  270000000.0     98100000             10   \n",
       "\n",
       "   tenor  monthly_payment    loan_purpose  \n",
       "0     54       2263403.16  kredit pribadi  "
      ]
     },
     "execution_count": 26,
     "metadata": {},
     "output_type": "execute_result"
    }
   ],
   "source": [
    "df"
   ]
  },
  {
   "cell_type": "code",
   "execution_count": 27,
   "metadata": {},
   "outputs": [
    {
     "data": {
      "text/html": [
       "<div>\n",
       "<style scoped>\n",
       "    .dataframe tbody tr th:only-of-type {\n",
       "        vertical-align: middle;\n",
       "    }\n",
       "\n",
       "    .dataframe tbody tr th {\n",
       "        vertical-align: top;\n",
       "    }\n",
       "\n",
       "    .dataframe thead th {\n",
       "        text-align: right;\n",
       "    }\n",
       "</style>\n",
       "<table border=\"1\" class=\"dataframe\">\n",
       "  <thead>\n",
       "    <tr style=\"text-align: right;\">\n",
       "      <th></th>\n",
       "      <th>debtor_name</th>\n",
       "      <th>debtor_age</th>\n",
       "      <th>debtor_education_level</th>\n",
       "      <th>employment_year</th>\n",
       "      <th>monthly_income</th>\n",
       "      <th>monthly_expenses</th>\n",
       "      <th>asset_value</th>\n",
       "      <th>loan_amount</th>\n",
       "      <th>interest_rate</th>\n",
       "      <th>tenor</th>\n",
       "      <th>monthly_payment</th>\n",
       "      <th>loan_purpose</th>\n",
       "      <th>loan_income_expenses_ratio</th>\n",
       "      <th>default_risk</th>\n",
       "      <th>ses</th>\n",
       "    </tr>\n",
       "  </thead>\n",
       "  <tbody>\n",
       "    <tr>\n",
       "      <th>0</th>\n",
       "      <td>Yoga Fatwanto</td>\n",
       "      <td>21</td>\n",
       "      <td>S1</td>\n",
       "      <td>7</td>\n",
       "      <td>18000000</td>\n",
       "      <td>8400000</td>\n",
       "      <td>270000000.0</td>\n",
       "      <td>98100000</td>\n",
       "      <td>10</td>\n",
       "      <td>54</td>\n",
       "      <td>2263403.16</td>\n",
       "      <td>kredit pribadi</td>\n",
       "      <td>23.58</td>\n",
       "      <td>Baik</td>\n",
       "      <td>Menengah</td>\n",
       "    </tr>\n",
       "  </tbody>\n",
       "</table>\n",
       "</div>"
      ],
      "text/plain": [
       "     debtor_name  debtor_age debtor_education_level  employment_year  \\\n",
       "0  Yoga Fatwanto          21                     S1                7   \n",
       "\n",
       "   monthly_income  monthly_expenses  asset_value  loan_amount  interest_rate  \\\n",
       "0        18000000           8400000  270000000.0     98100000             10   \n",
       "\n",
       "   tenor  monthly_payment    loan_purpose  loan_income_expenses_ratio  \\\n",
       "0     54       2263403.16  kredit pribadi                       23.58   \n",
       "\n",
       "  default_risk       ses  \n",
       "0         Baik  Menengah  "
      ]
     },
     "execution_count": 27,
     "metadata": {},
     "output_type": "execute_result"
    }
   ],
   "source": [
    "data_transformation_pipeline.fit_transform(df)"
   ]
  },
  {
   "cell_type": "code",
   "execution_count": 28,
   "metadata": {},
   "outputs": [],
   "source": [
    "df = kredit_preprocessing.fit_transform(df)"
   ]
  },
  {
   "cell_type": "code",
   "execution_count": 29,
   "metadata": {},
   "outputs": [
    {
     "data": {
      "text/html": [
       "<div>\n",
       "<style scoped>\n",
       "    .dataframe tbody tr th:only-of-type {\n",
       "        vertical-align: middle;\n",
       "    }\n",
       "\n",
       "    .dataframe tbody tr th {\n",
       "        vertical-align: top;\n",
       "    }\n",
       "\n",
       "    .dataframe thead th {\n",
       "        text-align: right;\n",
       "    }\n",
       "</style>\n",
       "<table border=\"1\" class=\"dataframe\">\n",
       "  <thead>\n",
       "    <tr style=\"text-align: right;\">\n",
       "      <th></th>\n",
       "      <th>debtor_name</th>\n",
       "      <th>debtor_age</th>\n",
       "      <th>debtor_education_level</th>\n",
       "      <th>employment_year</th>\n",
       "      <th>monthly_income</th>\n",
       "      <th>monthly_expenses</th>\n",
       "      <th>asset_value</th>\n",
       "      <th>loan_amount</th>\n",
       "      <th>interest_rate</th>\n",
       "      <th>tenor</th>\n",
       "      <th>monthly_payment</th>\n",
       "      <th>loan_purpose</th>\n",
       "      <th>loan_income_expenses_ratio</th>\n",
       "      <th>default_risk</th>\n",
       "      <th>ses</th>\n",
       "    </tr>\n",
       "  </thead>\n",
       "  <tbody>\n",
       "    <tr>\n",
       "      <th>0</th>\n",
       "      <td>Yoga Fatwanto</td>\n",
       "      <td>21</td>\n",
       "      <td>5</td>\n",
       "      <td>7</td>\n",
       "      <td>18000000</td>\n",
       "      <td>8400000</td>\n",
       "      <td>270000000.0</td>\n",
       "      <td>98100000</td>\n",
       "      <td>10</td>\n",
       "      <td>54</td>\n",
       "      <td>2263403.16</td>\n",
       "      <td>3</td>\n",
       "      <td>23.58</td>\n",
       "      <td>1</td>\n",
       "      <td>2</td>\n",
       "    </tr>\n",
       "  </tbody>\n",
       "</table>\n",
       "</div>"
      ],
      "text/plain": [
       "     debtor_name  debtor_age  debtor_education_level  employment_year  \\\n",
       "0  Yoga Fatwanto          21                       5                7   \n",
       "\n",
       "   monthly_income  monthly_expenses  asset_value  loan_amount  interest_rate  \\\n",
       "0        18000000           8400000  270000000.0     98100000             10   \n",
       "\n",
       "   tenor  monthly_payment  loan_purpose  loan_income_expenses_ratio  \\\n",
       "0     54       2263403.16             3                       23.58   \n",
       "\n",
       "   default_risk  ses  \n",
       "0             1    2  "
      ]
     },
     "execution_count": 29,
     "metadata": {},
     "output_type": "execute_result"
    }
   ],
   "source": [
    "df"
   ]
  },
  {
   "cell_type": "code",
   "execution_count": 30,
   "metadata": {},
   "outputs": [],
   "source": [
    "df.drop(['debtor_name','debtor_education_level'], axis=1, inplace=True)"
   ]
  },
  {
   "cell_type": "code",
   "execution_count": 31,
   "metadata": {},
   "outputs": [
    {
     "data": {
      "text/plain": [
       "Index(['debtor_age', 'employment_year', 'monthly_income', 'monthly_expenses',\n",
       "       'asset_value', 'loan_amount', 'interest_rate', 'tenor',\n",
       "       'monthly_payment', 'loan_purpose', 'loan_income_expenses_ratio',\n",
       "       'default_risk', 'ses'],\n",
       "      dtype='object')"
      ]
     },
     "execution_count": 31,
     "metadata": {},
     "output_type": "execute_result"
    }
   ],
   "source": [
    "df.columns"
   ]
  },
  {
   "cell_type": "code",
   "execution_count": 32,
   "metadata": {},
   "outputs": [],
   "source": [
    "new_column_order = ['employment_year', 'monthly_income', 'monthly_expenses', 'asset_value',\n",
    "                            'loan_amount', 'interest_rate', 'tenor', 'monthly_payment',\n",
    "                            'loan_income_expenses_ratio', 'default_risk', 'loan_purpose']\n",
    "\n",
    "kredit_df = df[new_column_order]\n"
   ]
  },
  {
   "cell_type": "code",
   "execution_count": 33,
   "metadata": {},
   "outputs": [
    {
     "data": {
      "text/html": [
       "<div>\n",
       "<style scoped>\n",
       "    .dataframe tbody tr th:only-of-type {\n",
       "        vertical-align: middle;\n",
       "    }\n",
       "\n",
       "    .dataframe tbody tr th {\n",
       "        vertical-align: top;\n",
       "    }\n",
       "\n",
       "    .dataframe thead th {\n",
       "        text-align: right;\n",
       "    }\n",
       "</style>\n",
       "<table border=\"1\" class=\"dataframe\">\n",
       "  <thead>\n",
       "    <tr style=\"text-align: right;\">\n",
       "      <th></th>\n",
       "      <th>debtor_age</th>\n",
       "      <th>employment_year</th>\n",
       "      <th>monthly_income</th>\n",
       "      <th>monthly_expenses</th>\n",
       "      <th>asset_value</th>\n",
       "      <th>loan_amount</th>\n",
       "      <th>interest_rate</th>\n",
       "      <th>tenor</th>\n",
       "      <th>monthly_payment</th>\n",
       "      <th>loan_purpose</th>\n",
       "      <th>loan_income_expenses_ratio</th>\n",
       "      <th>default_risk</th>\n",
       "      <th>ses</th>\n",
       "      <th>default_score</th>\n",
       "      <th>default_potential</th>\n",
       "    </tr>\n",
       "  </thead>\n",
       "  <tbody>\n",
       "    <tr>\n",
       "      <th>0</th>\n",
       "      <td>21</td>\n",
       "      <td>7</td>\n",
       "      <td>18000000</td>\n",
       "      <td>8400000</td>\n",
       "      <td>270000000.0</td>\n",
       "      <td>98100000</td>\n",
       "      <td>10</td>\n",
       "      <td>54</td>\n",
       "      <td>2263403.16</td>\n",
       "      <td>3</td>\n",
       "      <td>23.58</td>\n",
       "      <td>1</td>\n",
       "      <td>2</td>\n",
       "      <td>249.455811</td>\n",
       "      <td>Sangat Baik</td>\n",
       "    </tr>\n",
       "  </tbody>\n",
       "</table>\n",
       "</div>"
      ],
      "text/plain": [
       "   debtor_age  employment_year  monthly_income  monthly_expenses  asset_value  \\\n",
       "0          21                7        18000000           8400000  270000000.0   \n",
       "\n",
       "   loan_amount  interest_rate  tenor  monthly_payment  loan_purpose  \\\n",
       "0     98100000             10     54       2263403.16             3   \n",
       "\n",
       "   loan_income_expenses_ratio  default_risk  ses  default_score  \\\n",
       "0                       23.58             1    2     249.455811   \n",
       "\n",
       "  default_potential  \n",
       "0       Sangat Baik  "
      ]
     },
     "execution_count": 33,
     "metadata": {},
     "output_type": "execute_result"
    }
   ],
   "source": [
    "scaler = joblib.load('../savedmodel/kredit_pinjaman_scaler.pkl')\n",
    "scaled_df = scaler.transform(kredit_df)\n",
    "model = joblib.load('../savedmodel/kredit_pinjaman.pkl')\n",
    "default_score = model.predict(scaled_df)\n",
    "df['default_score'] = default_score\n",
    "default_potential_cal = PotentialDefaultCalculator()\n",
    "default_potential_cal.fit_transform(df)"
   ]
  },
  {
   "cell_type": "code",
   "execution_count": 34,
   "metadata": {},
   "outputs": [
    {
     "data": {
      "text/html": [
       "<div>\n",
       "<style scoped>\n",
       "    .dataframe tbody tr th:only-of-type {\n",
       "        vertical-align: middle;\n",
       "    }\n",
       "\n",
       "    .dataframe tbody tr th {\n",
       "        vertical-align: top;\n",
       "    }\n",
       "\n",
       "    .dataframe thead th {\n",
       "        text-align: right;\n",
       "    }\n",
       "</style>\n",
       "<table border=\"1\" class=\"dataframe\">\n",
       "  <thead>\n",
       "    <tr style=\"text-align: right;\">\n",
       "      <th></th>\n",
       "      <th>debtor_age</th>\n",
       "      <th>asset_value</th>\n",
       "      <th>loan_amount</th>\n",
       "      <th>loan_purpose</th>\n",
       "      <th>ses</th>\n",
       "      <th>default_risk</th>\n",
       "      <th>default_score</th>\n",
       "      <th>default_potential</th>\n",
       "    </tr>\n",
       "  </thead>\n",
       "  <tbody>\n",
       "    <tr>\n",
       "      <th>0</th>\n",
       "      <td>21</td>\n",
       "      <td>270000000.0</td>\n",
       "      <td>98100000</td>\n",
       "      <td>3</td>\n",
       "      <td>2</td>\n",
       "      <td>1</td>\n",
       "      <td>249.455811</td>\n",
       "      <td>Sangat Baik</td>\n",
       "    </tr>\n",
       "  </tbody>\n",
       "</table>\n",
       "</div>"
      ],
      "text/plain": [
       "   debtor_age  asset_value  loan_amount  loan_purpose  ses  default_risk  \\\n",
       "0          21  270000000.0     98100000             3    2             1   \n",
       "\n",
       "   default_score default_potential  \n",
       "0     249.455811       Sangat Baik  "
      ]
     },
     "execution_count": 34,
     "metadata": {},
     "output_type": "execute_result"
    }
   ],
   "source": [
    "solution_df  = df[['debtor_age', 'asset_value', 'loan_amount', 'loan_purpose', 'ses','default_risk', 'default_score', 'default_potential']]\n",
    "solution_df"
   ]
  },
  {
   "cell_type": "code",
   "execution_count": 35,
   "metadata": {},
   "outputs": [
    {
     "data": {
      "text/html": [
       "<div>\n",
       "<style scoped>\n",
       "    .dataframe tbody tr th:only-of-type {\n",
       "        vertical-align: middle;\n",
       "    }\n",
       "\n",
       "    .dataframe tbody tr th {\n",
       "        vertical-align: top;\n",
       "    }\n",
       "\n",
       "    .dataframe thead th {\n",
       "        text-align: right;\n",
       "    }\n",
       "</style>\n",
       "<table border=\"1\" class=\"dataframe\">\n",
       "  <thead>\n",
       "    <tr style=\"text-align: right;\">\n",
       "      <th></th>\n",
       "      <th>debtor_age</th>\n",
       "      <th>asset_value</th>\n",
       "      <th>loan_amount</th>\n",
       "      <th>loan_purpose</th>\n",
       "      <th>ses</th>\n",
       "      <th>default_risk</th>\n",
       "      <th>default_score</th>\n",
       "      <th>default_potential</th>\n",
       "    </tr>\n",
       "  </thead>\n",
       "  <tbody>\n",
       "    <tr>\n",
       "      <th>0</th>\n",
       "      <td>21</td>\n",
       "      <td>270000000.0</td>\n",
       "      <td>98100000</td>\n",
       "      <td>3</td>\n",
       "      <td>2</td>\n",
       "      <td>1</td>\n",
       "      <td>249.455811</td>\n",
       "      <td>Sangat Baik</td>\n",
       "    </tr>\n",
       "  </tbody>\n",
       "</table>\n",
       "</div>"
      ],
      "text/plain": [
       "   debtor_age  asset_value  loan_amount  loan_purpose  ses  default_risk  \\\n",
       "0          21  270000000.0     98100000             3    2             1   \n",
       "\n",
       "   default_score default_potential  \n",
       "0     249.455811       Sangat Baik  "
      ]
     },
     "execution_count": 35,
     "metadata": {},
     "output_type": "execute_result"
    }
   ],
   "source": [
    "solution_df"
   ]
  },
  {
   "cell_type": "code",
   "execution_count": 36,
   "metadata": {},
   "outputs": [],
   "source": [
    "solution_df = solution_preprocessing.fit_transform(solution_df)"
   ]
  },
  {
   "cell_type": "code",
   "execution_count": 37,
   "metadata": {},
   "outputs": [
    {
     "data": {
      "text/html": [
       "<div>\n",
       "<style scoped>\n",
       "    .dataframe tbody tr th:only-of-type {\n",
       "        vertical-align: middle;\n",
       "    }\n",
       "\n",
       "    .dataframe tbody tr th {\n",
       "        vertical-align: top;\n",
       "    }\n",
       "\n",
       "    .dataframe thead th {\n",
       "        text-align: right;\n",
       "    }\n",
       "</style>\n",
       "<table border=\"1\" class=\"dataframe\">\n",
       "  <thead>\n",
       "    <tr style=\"text-align: right;\">\n",
       "      <th></th>\n",
       "      <th>debtor_age</th>\n",
       "      <th>asset_value</th>\n",
       "      <th>loan_amount</th>\n",
       "      <th>loan_purpose</th>\n",
       "      <th>ses</th>\n",
       "      <th>default_risk</th>\n",
       "      <th>default_score</th>\n",
       "      <th>default_potential</th>\n",
       "    </tr>\n",
       "  </thead>\n",
       "  <tbody>\n",
       "    <tr>\n",
       "      <th>0</th>\n",
       "      <td>21</td>\n",
       "      <td>270000000.0</td>\n",
       "      <td>98100000</td>\n",
       "      <td>3</td>\n",
       "      <td>2</td>\n",
       "      <td>1</td>\n",
       "      <td>249.455811</td>\n",
       "      <td>0</td>\n",
       "    </tr>\n",
       "  </tbody>\n",
       "</table>\n",
       "</div>"
      ],
      "text/plain": [
       "   debtor_age  asset_value  loan_amount  loan_purpose  ses  default_risk  \\\n",
       "0          21  270000000.0     98100000             3    2             1   \n",
       "\n",
       "   default_score  default_potential  \n",
       "0     249.455811                  0  "
      ]
     },
     "execution_count": 37,
     "metadata": {},
     "output_type": "execute_result"
    }
   ],
   "source": [
    "solution_df"
   ]
  },
  {
   "cell_type": "code",
   "execution_count": 38,
   "metadata": {},
   "outputs": [],
   "source": [
    "solution_scaler = joblib.load('../savedmodel/kredit_pinjaman_solution_scaler.pkl')\n",
    "solution_df = solution_scaler.transform(solution_df)\n",
    "solution_model = joblib.load('../savedmodel/kredit_pinjaman_solution.pkl')\n",
    "solution_given = solution_model.predict(solution_df)\n"
   ]
  },
  {
   "cell_type": "code",
   "execution_count": 39,
   "metadata": {},
   "outputs": [
    {
     "data": {
      "text/plain": [
       "array(['Berikan edukasi keuangan, Pertimbangkan Cairkan aset untuk menutupi pinjaman, Evaluasi keuangan, penyusunan anggaran untuk kebutuhan mendesak, Edukasi Keuangan Lanjutan'],\n",
       "      dtype=object)"
      ]
     },
     "execution_count": 39,
     "metadata": {},
     "output_type": "execute_result"
    }
   ],
   "source": [
    "solution_given"
   ]
  },
  {
   "cell_type": "code",
   "execution_count": null,
   "metadata": {},
   "outputs": [],
   "source": []
  },
  {
   "cell_type": "code",
   "execution_count": null,
   "metadata": {},
   "outputs": [],
   "source": []
  },
  {
   "cell_type": "code",
   "execution_count": 41,
   "metadata": {},
   "outputs": [
    {
     "ename": "ValueError",
     "evalue": "could not convert string to float: 'Baik'",
     "output_type": "error",
     "traceback": [
      "\u001b[1;31m---------------------------------------------------------------------------\u001b[0m",
      "\u001b[1;31mValueError\u001b[0m                                Traceback (most recent call last)",
      "\u001b[1;32mc:\\Users\\yogafatwanto\\Documents\\magang\\Magang M-Knows\\project\\AICollection\\preprocessing\\test.ipynb Cell 22\u001b[0m line \u001b[0;36m1\n\u001b[0;32m     <a href='vscode-notebook-cell:/c%3A/Users/yogafatwanto/Documents/magang/Magang%20M-Knows/project/AICollection/preprocessing/test.ipynb#X35sZmlsZQ%3D%3D?line=10'>11</a>\u001b[0m kredit_df \u001b[39m=\u001b[39m df[new_column_order]\n\u001b[0;32m     <a href='vscode-notebook-cell:/c%3A/Users/yogafatwanto/Documents/magang/Magang%20M-Knows/project/AICollection/preprocessing/test.ipynb#X35sZmlsZQ%3D%3D?line=12'>13</a>\u001b[0m scaler \u001b[39m=\u001b[39m joblib\u001b[39m.\u001b[39mload(\u001b[39m'\u001b[39m\u001b[39m../savedmodel/kredit_pinjaman_scaler.pkl\u001b[39m\u001b[39m'\u001b[39m)\n\u001b[1;32m---> <a href='vscode-notebook-cell:/c%3A/Users/yogafatwanto/Documents/magang/Magang%20M-Knows/project/AICollection/preprocessing/test.ipynb#X35sZmlsZQ%3D%3D?line=13'>14</a>\u001b[0m scaled_df \u001b[39m=\u001b[39m scaler\u001b[39m.\u001b[39;49mtransform(kredit_df)\n\u001b[0;32m     <a href='vscode-notebook-cell:/c%3A/Users/yogafatwanto/Documents/magang/Magang%20M-Knows/project/AICollection/preprocessing/test.ipynb#X35sZmlsZQ%3D%3D?line=14'>15</a>\u001b[0m model \u001b[39m=\u001b[39m joblib\u001b[39m.\u001b[39mload(\u001b[39m'\u001b[39m\u001b[39m../savedmodel/kredit_pinjaman.pkl\u001b[39m\u001b[39m'\u001b[39m)\n\u001b[0;32m     <a href='vscode-notebook-cell:/c%3A/Users/yogafatwanto/Documents/magang/Magang%20M-Knows/project/AICollection/preprocessing/test.ipynb#X35sZmlsZQ%3D%3D?line=15'>16</a>\u001b[0m default_score \u001b[39m=\u001b[39m model\u001b[39m.\u001b[39mpredict(scaled_df)\n",
      "File \u001b[1;32mc:\\Users\\yogafatwanto\\AppData\\Local\\Programs\\Python\\Python39\\lib\\site-packages\\sklearn\\utils\\_set_output.py:140\u001b[0m, in \u001b[0;36m_wrap_method_output.<locals>.wrapped\u001b[1;34m(self, X, *args, **kwargs)\u001b[0m\n\u001b[0;32m    138\u001b[0m \u001b[39m@wraps\u001b[39m(f)\n\u001b[0;32m    139\u001b[0m \u001b[39mdef\u001b[39;00m \u001b[39mwrapped\u001b[39m(\u001b[39mself\u001b[39m, X, \u001b[39m*\u001b[39margs, \u001b[39m*\u001b[39m\u001b[39m*\u001b[39mkwargs):\n\u001b[1;32m--> 140\u001b[0m     data_to_wrap \u001b[39m=\u001b[39m f(\u001b[39mself\u001b[39m, X, \u001b[39m*\u001b[39margs, \u001b[39m*\u001b[39m\u001b[39m*\u001b[39mkwargs)\n\u001b[0;32m    141\u001b[0m     \u001b[39mif\u001b[39;00m \u001b[39misinstance\u001b[39m(data_to_wrap, \u001b[39mtuple\u001b[39m):\n\u001b[0;32m    142\u001b[0m         \u001b[39m# only wrap the first output for cross decomposition\u001b[39;00m\n\u001b[0;32m    143\u001b[0m         \u001b[39mreturn\u001b[39;00m (\n\u001b[0;32m    144\u001b[0m             _wrap_data_with_container(method, data_to_wrap[\u001b[39m0\u001b[39m], X, \u001b[39mself\u001b[39m),\n\u001b[0;32m    145\u001b[0m             \u001b[39m*\u001b[39mdata_to_wrap[\u001b[39m1\u001b[39m:],\n\u001b[0;32m    146\u001b[0m         )\n",
      "File \u001b[1;32mc:\\Users\\yogafatwanto\\AppData\\Local\\Programs\\Python\\Python39\\lib\\site-packages\\sklearn\\preprocessing\\_data.py:992\u001b[0m, in \u001b[0;36mStandardScaler.transform\u001b[1;34m(self, X, copy)\u001b[0m\n\u001b[0;32m    989\u001b[0m check_is_fitted(\u001b[39mself\u001b[39m)\n\u001b[0;32m    991\u001b[0m copy \u001b[39m=\u001b[39m copy \u001b[39mif\u001b[39;00m copy \u001b[39mis\u001b[39;00m \u001b[39mnot\u001b[39;00m \u001b[39mNone\u001b[39;00m \u001b[39melse\u001b[39;00m \u001b[39mself\u001b[39m\u001b[39m.\u001b[39mcopy\n\u001b[1;32m--> 992\u001b[0m X \u001b[39m=\u001b[39m \u001b[39mself\u001b[39;49m\u001b[39m.\u001b[39;49m_validate_data(\n\u001b[0;32m    993\u001b[0m     X,\n\u001b[0;32m    994\u001b[0m     reset\u001b[39m=\u001b[39;49m\u001b[39mFalse\u001b[39;49;00m,\n\u001b[0;32m    995\u001b[0m     accept_sparse\u001b[39m=\u001b[39;49m\u001b[39m\"\u001b[39;49m\u001b[39mcsr\u001b[39;49m\u001b[39m\"\u001b[39;49m,\n\u001b[0;32m    996\u001b[0m     copy\u001b[39m=\u001b[39;49mcopy,\n\u001b[0;32m    997\u001b[0m     dtype\u001b[39m=\u001b[39;49mFLOAT_DTYPES,\n\u001b[0;32m    998\u001b[0m     force_all_finite\u001b[39m=\u001b[39;49m\u001b[39m\"\u001b[39;49m\u001b[39mallow-nan\u001b[39;49m\u001b[39m\"\u001b[39;49m,\n\u001b[0;32m    999\u001b[0m )\n\u001b[0;32m   1001\u001b[0m \u001b[39mif\u001b[39;00m sparse\u001b[39m.\u001b[39missparse(X):\n\u001b[0;32m   1002\u001b[0m     \u001b[39mif\u001b[39;00m \u001b[39mself\u001b[39m\u001b[39m.\u001b[39mwith_mean:\n",
      "File \u001b[1;32mc:\\Users\\yogafatwanto\\AppData\\Local\\Programs\\Python\\Python39\\lib\\site-packages\\sklearn\\base.py:565\u001b[0m, in \u001b[0;36mBaseEstimator._validate_data\u001b[1;34m(self, X, y, reset, validate_separately, **check_params)\u001b[0m\n\u001b[0;32m    563\u001b[0m     \u001b[39mraise\u001b[39;00m \u001b[39mValueError\u001b[39;00m(\u001b[39m\"\u001b[39m\u001b[39mValidation should be done on X, y or both.\u001b[39m\u001b[39m\"\u001b[39m)\n\u001b[0;32m    564\u001b[0m \u001b[39melif\u001b[39;00m \u001b[39mnot\u001b[39;00m no_val_X \u001b[39mand\u001b[39;00m no_val_y:\n\u001b[1;32m--> 565\u001b[0m     X \u001b[39m=\u001b[39m check_array(X, input_name\u001b[39m=\u001b[39m\u001b[39m\"\u001b[39m\u001b[39mX\u001b[39m\u001b[39m\"\u001b[39m, \u001b[39m*\u001b[39m\u001b[39m*\u001b[39mcheck_params)\n\u001b[0;32m    566\u001b[0m     out \u001b[39m=\u001b[39m X\n\u001b[0;32m    567\u001b[0m \u001b[39melif\u001b[39;00m no_val_X \u001b[39mand\u001b[39;00m \u001b[39mnot\u001b[39;00m no_val_y:\n",
      "File \u001b[1;32mc:\\Users\\yogafatwanto\\AppData\\Local\\Programs\\Python\\Python39\\lib\\site-packages\\sklearn\\utils\\validation.py:879\u001b[0m, in \u001b[0;36mcheck_array\u001b[1;34m(array, accept_sparse, accept_large_sparse, dtype, order, copy, force_all_finite, ensure_2d, allow_nd, ensure_min_samples, ensure_min_features, estimator, input_name)\u001b[0m\n\u001b[0;32m    877\u001b[0m         array \u001b[39m=\u001b[39m xp\u001b[39m.\u001b[39mastype(array, dtype, copy\u001b[39m=\u001b[39m\u001b[39mFalse\u001b[39;00m)\n\u001b[0;32m    878\u001b[0m     \u001b[39melse\u001b[39;00m:\n\u001b[1;32m--> 879\u001b[0m         array \u001b[39m=\u001b[39m _asarray_with_order(array, order\u001b[39m=\u001b[39;49morder, dtype\u001b[39m=\u001b[39;49mdtype, xp\u001b[39m=\u001b[39;49mxp)\n\u001b[0;32m    880\u001b[0m \u001b[39mexcept\u001b[39;00m ComplexWarning \u001b[39mas\u001b[39;00m complex_warning:\n\u001b[0;32m    881\u001b[0m     \u001b[39mraise\u001b[39;00m \u001b[39mValueError\u001b[39;00m(\n\u001b[0;32m    882\u001b[0m         \u001b[39m\"\u001b[39m\u001b[39mComplex data not supported\u001b[39m\u001b[39m\\n\u001b[39;00m\u001b[39m{}\u001b[39;00m\u001b[39m\\n\u001b[39;00m\u001b[39m\"\u001b[39m\u001b[39m.\u001b[39mformat(array)\n\u001b[0;32m    883\u001b[0m     ) \u001b[39mfrom\u001b[39;00m \u001b[39mcomplex_warning\u001b[39;00m\n",
      "File \u001b[1;32mc:\\Users\\yogafatwanto\\AppData\\Local\\Programs\\Python\\Python39\\lib\\site-packages\\sklearn\\utils\\_array_api.py:185\u001b[0m, in \u001b[0;36m_asarray_with_order\u001b[1;34m(array, dtype, order, copy, xp)\u001b[0m\n\u001b[0;32m    182\u001b[0m     xp, _ \u001b[39m=\u001b[39m get_namespace(array)\n\u001b[0;32m    183\u001b[0m \u001b[39mif\u001b[39;00m xp\u001b[39m.\u001b[39m\u001b[39m__name__\u001b[39m \u001b[39min\u001b[39;00m {\u001b[39m\"\u001b[39m\u001b[39mnumpy\u001b[39m\u001b[39m\"\u001b[39m, \u001b[39m\"\u001b[39m\u001b[39mnumpy.array_api\u001b[39m\u001b[39m\"\u001b[39m}:\n\u001b[0;32m    184\u001b[0m     \u001b[39m# Use NumPy API to support order\u001b[39;00m\n\u001b[1;32m--> 185\u001b[0m     array \u001b[39m=\u001b[39m numpy\u001b[39m.\u001b[39;49masarray(array, order\u001b[39m=\u001b[39;49morder, dtype\u001b[39m=\u001b[39;49mdtype)\n\u001b[0;32m    186\u001b[0m     \u001b[39mreturn\u001b[39;00m xp\u001b[39m.\u001b[39masarray(array, copy\u001b[39m=\u001b[39mcopy)\n\u001b[0;32m    187\u001b[0m \u001b[39melse\u001b[39;00m:\n",
      "File \u001b[1;32mc:\\Users\\yogafatwanto\\AppData\\Local\\Programs\\Python\\Python39\\lib\\site-packages\\pandas\\core\\generic.py:2070\u001b[0m, in \u001b[0;36mNDFrame.__array__\u001b[1;34m(self, dtype)\u001b[0m\n\u001b[0;32m   2069\u001b[0m \u001b[39mdef\u001b[39;00m \u001b[39m__array__\u001b[39m(\u001b[39mself\u001b[39m, dtype: npt\u001b[39m.\u001b[39mDTypeLike \u001b[39m|\u001b[39m \u001b[39mNone\u001b[39;00m \u001b[39m=\u001b[39m \u001b[39mNone\u001b[39;00m) \u001b[39m-\u001b[39m\u001b[39m>\u001b[39m np\u001b[39m.\u001b[39mndarray:\n\u001b[1;32m-> 2070\u001b[0m     \u001b[39mreturn\u001b[39;00m np\u001b[39m.\u001b[39;49masarray(\u001b[39mself\u001b[39;49m\u001b[39m.\u001b[39;49m_values, dtype\u001b[39m=\u001b[39;49mdtype)\n",
      "\u001b[1;31mValueError\u001b[0m: could not convert string to float: 'Baik'"
     ]
    }
   ],
   "source": [
    "data_debitur = [\"Yoga Fatwanto\",21, \"S1\", 7, 18000000, 8400000, 270000000.0, 98100000, 10, 54, 2263403.16, \"kredit pribadi\"]\n",
    "columns = ['debtor_name', 'debtor_age', 'debtor_education_level','employment_year', 'monthly_income', 'monthly_expenses', 'asset_value','loan_amount', 'interest_rate', 'tenor', 'monthly_payment', 'loan_purpose']\n",
    "df = pd.DataFrame([data_debitur], columns=columns)\n",
    "nama = data_debitur[0]\n",
    "data_transformation_pipeline.fit_transform(df)\n",
    "df.drop(['debtor_name','debtor_education_level'], axis=1, inplace=True)\n",
    "new_column_order = ['employment_year', 'monthly_income', 'monthly_expenses', 'asset_value',\n",
    "                'loan_amount', 'interest_rate', 'tenor', 'monthly_payment',\n",
    "                'loan_income_expenses_ratio', 'default_risk', 'loan_purpose']\n",
    "\n",
    "kredit_df = df[new_column_order]\n",
    "\n",
    "scaler = joblib.load('../savedmodel/kredit_pinjaman_scaler.pkl')\n",
    "scaled_df = scaler.transform(kredit_df)\n",
    "model = joblib.load('../savedmodel/kredit_pinjaman.pkl')\n",
    "default_score = model.predict(scaled_df)\n",
    "df['default_score'] = default_score\n",
    "default_potential_cal = PotentialDefaultCalculator()\n",
    "default_potential_cal.fit_transform(df)\n",
    "# solution_df  = df[['debtor_age', 'asset_value', 'loan_amount', 'loan_purpose', 'ses','default_risk', 'default_score', 'default_potential']]\n",
    "# solution_df = solution_preprocessing.fit_transform(solution_df)\n",
    "# # cat_encoder = CategoricalEncoder()\n",
    "# solution_df = cat_encoder.fit_transform(solution_df)\n",
    "# solution_scaler = joblib.load('../savedmodel/kredit_pinjaman_solution_scaler.pkl')\n",
    "# solution_df = solution_scaler.transform(solution_df)\n",
    "# solution_model = joblib.load('../savedmodel/kredit_pinjaman_solution.pkl')\n",
    "# solution_given = solution_model.predict(solution_df)\n"
   ]
  },
  {
   "cell_type": "code",
   "execution_count": null,
   "metadata": {},
   "outputs": [],
   "source": []
  }
 ],
 "metadata": {
  "kernelspec": {
   "display_name": "Python 3",
   "language": "python",
   "name": "python3"
  },
  "language_info": {
   "codemirror_mode": {
    "name": "ipython",
    "version": 3
   },
   "file_extension": ".py",
   "mimetype": "text/x-python",
   "name": "python",
   "nbconvert_exporter": "python",
   "pygments_lexer": "ipython3",
   "version": "3.9.13"
  },
  "orig_nbformat": 4
 },
 "nbformat": 4,
 "nbformat_minor": 2
}
